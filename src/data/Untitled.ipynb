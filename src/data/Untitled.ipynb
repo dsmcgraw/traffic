{
 "cells": [
  {
   "cell_type": "code",
   "execution_count": 8,
   "id": "ce462b1e-c609-4e46-847b-9c29128ed8e0",
   "metadata": {},
   "outputs": [],
   "source": [
    "from dataclasses import dataclass, field"
   ]
  },
  {
   "cell_type": "code",
   "execution_count": 11,
   "id": "c4aa7636-60f6-49bc-96bf-c4434d88f5ce",
   "metadata": {},
   "outputs": [],
   "source": [
    "@dataclass\n",
    "class Vehicle:\n",
    "    brand: str\n",
    "    catalogue_price: int\n",
    "    electric: bool\n",
    "    license_plate: str = field(init=False)\n",
    "\n",
    "    @property\n",
    "    def tax(self) -> int:\n",
    "        tax_rate = 0.02 if self.electric else 0.05\n",
    "        return int(tax_rate * self.catalogue_price)"
   ]
  },
  {
   "cell_type": "code",
   "execution_count": 12,
   "id": "b2922af3-0f52-465d-87ee-22e369199d8f",
   "metadata": {},
   "outputs": [
    {
     "name": "stdout",
     "output_type": "stream",
     "text": [
      "120000\n",
      "70000\n"
     ]
    }
   ],
   "source": [
    "tesla = Vehicle(\"Tesla Model 3\", 6000000, True)\n",
    "volkswagen = Vehicle(\"Volkswagen\", 3500000, True)\n",
    "print(tesla.tax)\n",
    "print(volkswagen.tax)"
   ]
  },
  {
   "cell_type": "code",
   "execution_count": 14,
   "id": "725e8c43-4e6c-4f66-9f40-14dec33d05cd",
   "metadata": {},
   "outputs": [],
   "source": [
    "tesla.license_plate = 'ABC 123'"
   ]
  },
  {
   "cell_type": "code",
   "execution_count": 16,
   "id": "62b3a65e-8cb8-4993-867f-17e987f79cfc",
   "metadata": {},
   "outputs": [
    {
     "data": {
      "text/plain": [
       "'Tesla Model 3'"
      ]
     },
     "execution_count": 16,
     "metadata": {},
     "output_type": "execute_result"
    }
   ],
   "source": [
    "tesla.brand"
   ]
  },
  {
   "cell_type": "code",
   "execution_count": null,
   "id": "a200b30c-fe9a-4c0a-bd19-9b5a19a77dda",
   "metadata": {},
   "outputs": [],
   "source": []
  },
  {
   "cell_type": "code",
   "execution_count": null,
   "id": "1b93eca5-d238-42f7-9e29-1b6e42f32e7c",
   "metadata": {},
   "outputs": [],
   "source": []
  },
  {
   "cell_type": "code",
   "execution_count": null,
   "id": "ff8bd7bd-7f8f-4b44-87ea-b9d261c3122a",
   "metadata": {},
   "outputs": [],
   "source": []
  },
  {
   "cell_type": "code",
   "execution_count": null,
   "id": "1568792a-6869-4fac-9262-cac33054ca2f",
   "metadata": {},
   "outputs": [],
   "source": []
  },
  {
   "cell_type": "code",
   "execution_count": null,
   "id": "d4dbd47d-46c8-46df-9503-b3bf41a257aa",
   "metadata": {},
   "outputs": [],
   "source": []
  },
  {
   "cell_type": "code",
   "execution_count": null,
   "id": "49c04286-0e4d-4e68-bdb4-7d20479bc8f0",
   "metadata": {},
   "outputs": [],
   "source": []
  }
 ],
 "metadata": {
  "kernelspec": {
   "display_name": "Python 3 (ipykernel)",
   "language": "python",
   "name": "python3"
  },
  "language_info": {
   "codemirror_mode": {
    "name": "ipython",
    "version": 3
   },
   "file_extension": ".py",
   "mimetype": "text/x-python",
   "name": "python",
   "nbconvert_exporter": "python",
   "pygments_lexer": "ipython3",
   "version": "3.9.7"
  }
 },
 "nbformat": 4,
 "nbformat_minor": 5
}
