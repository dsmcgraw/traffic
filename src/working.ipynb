{
 "cells": [
  {
   "cell_type": "markdown",
   "id": "e316abff-08fa-40a7-99c7-ac2ea4b67b18",
   "metadata": {},
   "source": [
    "# Intro\n",
    "\n",
    "# Imports and setup\n",
    "\n",
    "# Data prep\n",
    "1. Read parquet files in interim directory\n",
    "1. Extract data for site, upstream site, and downstream site\n",
    "1. Arrange data in wide format\n",
    "    - lane vehicle speed at site [TARGET]\n",
    "    - lane vehicle count at site\n",
    "    - occupancy at site\n",
    "    - ds lane vehicle speed\n",
    "    - ds lane vehicle count\n",
    "    - ds occupancy\n",
    "    - us lane vehicle speed\n",
    "    - us lane vehicle count\n",
    "    - us occupancy\n",
    "1. Add features\n",
    "    - hour of day\n",
    "    - sin hour of day\n",
    "    - cos hour of day\n",
    "    - day of week (one hot encoding)\n",
    "1. Scale data\n",
    "1. Export clean data\n",
    "\n",
    "# Model\n",
    "1. Prepare data\n",
    "...describe prep_ts_data function...\n",
    "1. Build model\n",
    "1. Train model\n",
    "1. Predictions\n",
    "1. Evaluate\n",
    "\n",
    "# Discussion\n"
   ]
  },
  {
   "cell_type": "code",
   "execution_count": null,
   "id": "f33139b5-cdeb-4258-ab6b-a677a1b83373",
   "metadata": {},
   "outputs": [],
   "source": []
  }
 ],
 "metadata": {
  "kernelspec": {
   "display_name": "Python 3 (ipykernel)",
   "language": "python",
   "name": "python3"
  },
  "language_info": {
   "codemirror_mode": {
    "name": "ipython",
    "version": 3
   },
   "file_extension": ".py",
   "mimetype": "text/x-python",
   "name": "python",
   "nbconvert_exporter": "python",
   "pygments_lexer": "ipython3",
   "version": "3.8.12"
  }
 },
 "nbformat": 4,
 "nbformat_minor": 5
}
